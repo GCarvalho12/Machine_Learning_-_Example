{
 "cells": [
  {
   "cell_type": "code",
   "execution_count": 1,
   "id": "86806ebe",
   "metadata": {},
   "outputs": [],
   "source": [
    "from sklearn.tree import DecisionTreeClassifier\n",
    "from sklearn.datasets import load_breast_cancer\n",
    "from sklearn.model_selection import cross_val_score"
   ]
  },
  {
   "cell_type": "code",
   "execution_count": 3,
   "id": "b2b53cc6",
   "metadata": {},
   "outputs": [],
   "source": [
    "X, y = load_breast_cancer(return_X_y=True)"
   ]
  },
  {
   "cell_type": "code",
   "execution_count": 5,
   "id": "a6eab5a2",
   "metadata": {},
   "outputs": [],
   "source": [
    "score = cross_val_score(estimator=DecisionTreeClassifier(random_state=37), X=X, y=y, scoring='roc_auc', cv=3)"
   ]
  },
  {
   "cell_type": "code",
   "execution_count": 6,
   "id": "7b02c81b",
   "metadata": {},
   "outputs": [
    {
     "name": "stdout",
     "output_type": "stream",
     "text": [
      "Desempenho médio de AUC-ROC: 0.916\n"
     ]
    }
   ],
   "source": [
    "print('Desempenho médio de AUC-ROC: {}'.format(round(score.mean(),3)))"
   ]
  },
  {
   "cell_type": "markdown",
   "id": "9de773b6",
   "metadata": {},
   "source": [
    " ## Grid Search"
   ]
  },
  {
   "cell_type": "code",
   "execution_count": 7,
   "id": "3d950737",
   "metadata": {},
   "outputs": [],
   "source": [
    "from sklearn.model_selection import GridSearchCV"
   ]
  },
  {
   "cell_type": "code",
   "execution_count": 8,
   "id": "6a740254",
   "metadata": {},
   "outputs": [],
   "source": [
    "grid_search_cv = GridSearchCV(estimator=DecisionTreeClassifier(random_state=37), param_grid={'max_depth':range(1,50)},\n",
    "                             scoring='roc_auc', cv=3)"
   ]
  },
  {
   "cell_type": "code",
   "execution_count": 9,
   "id": "421d2739",
   "metadata": {},
   "outputs": [
    {
     "data": {
      "text/plain": [
       "GridSearchCV(cv=3, estimator=DecisionTreeClassifier(random_state=37),\n",
       "             param_grid={'max_depth': range(1, 50)}, scoring='roc_auc')"
      ]
     },
     "execution_count": 9,
     "metadata": {},
     "output_type": "execute_result"
    }
   ],
   "source": [
    "grid_search_cv.fit(X, y)"
   ]
  },
  {
   "cell_type": "code",
   "execution_count": 10,
   "id": "a0b5b384",
   "metadata": {},
   "outputs": [
    {
     "name": "stdout",
     "output_type": "stream",
     "text": [
      "Melhor comprimento máximo: 3\n",
      "Desempenho AUC-ROC do melhor modelo: 0.923\n",
      "Tempo para realizar a otimização:\n",
      "892 ms ± 0 ns per loop (mean ± std. dev. of 1 run, 1 loop each)\n"
     ]
    }
   ],
   "source": [
    "print('Melhor comprimento máximo: {}'.format(grid_search_cv.best_params_['max_depth']))\n",
    "print('Desempenho AUC-ROC do melhor modelo: {}' .format(round(grid_search_cv.best_score_,3)))\n",
    "print('Tempo para realizar a otimização:')\n",
    "%timeit -n 1 -r 1 grid_search_cv.fit(X, y)"
   ]
  },
  {
   "cell_type": "markdown",
   "id": "5b37c993",
   "metadata": {},
   "source": [
    "## Random Search"
   ]
  },
  {
   "cell_type": "code",
   "execution_count": 11,
   "id": "1d1aa901",
   "metadata": {},
   "outputs": [],
   "source": [
    "from sklearn.model_selection import RandomizedSearchCV"
   ]
  },
  {
   "cell_type": "code",
   "execution_count": 14,
   "id": "81383ccf",
   "metadata": {},
   "outputs": [],
   "source": [
    "random_search_cv = RandomizedSearchCV(estimator=DecisionTreeClassifier(random_state=37), \n",
    "                                      param_distributions={'max_depth':range(1,50), 'min_samples_leaf':range(1,20)},\n",
    "                                      scoring='roc_auc',\n",
    "                                      cv=3,\n",
    "                                      n_iter=50)"
   ]
  },
  {
   "cell_type": "code",
   "execution_count": 15,
   "id": "702f908c",
   "metadata": {},
   "outputs": [
    {
     "data": {
      "text/plain": [
       "RandomizedSearchCV(cv=3, estimator=DecisionTreeClassifier(random_state=37),\n",
       "                   n_iter=50,\n",
       "                   param_distributions={'max_depth': range(1, 50),\n",
       "                                        'min_samples_leaf': range(1, 20)},\n",
       "                   scoring='roc_auc')"
      ]
     },
     "execution_count": 15,
     "metadata": {},
     "output_type": "execute_result"
    }
   ],
   "source": [
    "random_search_cv.fit(X, y)"
   ]
  },
  {
   "cell_type": "code",
   "execution_count": 17,
   "id": "95653711",
   "metadata": {},
   "outputs": [
    {
     "name": "stdout",
     "output_type": "stream",
     "text": [
      "Melhor comprimento máximo: 29\n",
      "Melhor minimo de amostras por folha: 16\n",
      "Desempenho AUC-ROC do melhor modelo: 0.97\n",
      "Tempo para realizar a otimização:\n",
      "761 ms ± 0 ns per loop (mean ± std. dev. of 1 run, 1 loop each)\n"
     ]
    }
   ],
   "source": [
    "print('Melhor comprimento máximo: {}'.format(random_search_cv.best_params_['max_depth']))\n",
    "print('Melhor minimo de amostras por folha: {}'.format(random_search_cv.best_params_['min_samples_leaf']))\n",
    "print('Desempenho AUC-ROC do melhor modelo: {}'.format(round(random_search_cv.best_score_,3)))\n",
    "print('Tempo para realizar a otimização:')\n",
    "%timeit -n 1 -r 1 random_search_cv.fit(X, y)"
   ]
  },
  {
   "cell_type": "markdown",
   "id": "8fcc2c6f",
   "metadata": {},
   "source": [
    "## Bayes Search"
   ]
  },
  {
   "cell_type": "code",
   "execution_count": 18,
   "id": "93e6c337",
   "metadata": {},
   "outputs": [],
   "source": [
    "import warnings\n",
    "warnings.filterwarnings('ignore')"
   ]
  },
  {
   "cell_type": "code",
   "execution_count": 25,
   "id": "e6632841",
   "metadata": {},
   "outputs": [],
   "source": [
    "from skopt import BayesSearchCV\n",
    "from skopt.space import Integer"
   ]
  },
  {
   "cell_type": "code",
   "execution_count": 29,
   "id": "7d7723e4",
   "metadata": {},
   "outputs": [],
   "source": [
    "bayes_search_cv = BayesSearchCV(estimator=DecisionTreeClassifier(random_state=37),\n",
    "                               search_spaces={'max_depth':Integer(1,100),\n",
    "                                             'min_samples_leaf':Integer(1,100)},\n",
    "                               scoring='roc_auc',\n",
    "                               cv=3, n_iter=50, random_state=37)"
   ]
  },
  {
   "cell_type": "code",
   "execution_count": 30,
   "id": "8373b8cf",
   "metadata": {},
   "outputs": [
    {
     "data": {
      "text/plain": [
       "BayesSearchCV(cv=3, estimator=DecisionTreeClassifier(random_state=37),\n",
       "              random_state=37, scoring='roc_auc',\n",
       "              search_spaces={'max_depth': Integer(low=1, high=100, prior='uniform', transform='normalize'),\n",
       "                             'min_samples_leaf': Integer(low=1, high=100, prior='uniform', transform='normalize')})"
      ]
     },
     "execution_count": 30,
     "metadata": {},
     "output_type": "execute_result"
    }
   ],
   "source": [
    "bayes_search_cv.fit(X, y)"
   ]
  },
  {
   "cell_type": "code",
   "execution_count": 31,
   "id": "745f69a4",
   "metadata": {},
   "outputs": [
    {
     "name": "stdout",
     "output_type": "stream",
     "text": [
      "Melhor comprimento maximo: 100\n",
      "Melhor minimo de amostras por folha: 28\n",
      "Desempenho AUC-ROC do melhor modelo: 0.974\n",
      "Tempo para realizar a otimização:\n",
      "56.9 s ± 0 ns per loop (mean ± std. dev. of 1 run, 1 loop each)\n"
     ]
    }
   ],
   "source": [
    "print('Melhor comprimento maximo: {}'.format(bayes_search_cv.best_params_['max_depth']))\n",
    "print('Melhor minimo de amostras por folha: {}'.format(bayes_search_cv.best_params_['min_samples_leaf']))\n",
    "print('Desempenho AUC-ROC do melhor modelo: {}'.format(round(bayes_search_cv.best_score_,3)))\n",
    "print('Tempo para realizar a otimização:')\n",
    "%timeit -n 1 -r 1 bayes_search_cv.fit(X, y) "
   ]
  }
 ],
 "metadata": {
  "kernelspec": {
   "display_name": "Python 3.9.12 ('base')",
   "language": "python",
   "name": "python3"
  },
  "language_info": {
   "codemirror_mode": {
    "name": "ipython",
    "version": 3
   },
   "file_extension": ".py",
   "mimetype": "text/x-python",
   "name": "python",
   "nbconvert_exporter": "python",
   "pygments_lexer": "ipython3",
   "version": "3.9.12"
  },
  "vscode": {
   "interpreter": {
    "hash": "04ca94008266cd00cf4dd2d6a6310a01fa708f20782cb13bd9b96777e2ff7e88"
   }
  }
 },
 "nbformat": 4,
 "nbformat_minor": 5
}
