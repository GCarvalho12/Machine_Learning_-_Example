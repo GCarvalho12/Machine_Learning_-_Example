{
 "cells": [
  {
   "cell_type": "markdown",
   "id": "c9ee88e6",
   "metadata": {},
   "source": [
    "## Classificação"
   ]
  },
  {
   "cell_type": "code",
   "execution_count": 1,
   "id": "94bfa3cc",
   "metadata": {},
   "outputs": [],
   "source": [
    "from sklearn import tree\n",
    "from sklearn.datasets import load_iris\n",
    "from sklearn.model_selection import cross_val_score"
   ]
  },
  {
   "cell_type": "code",
   "execution_count": 2,
   "id": "962612f9",
   "metadata": {},
   "outputs": [],
   "source": [
    "iris = load_iris()\n",
    "X = iris.data\n",
    "y = iris.target"
   ]
  },
  {
   "cell_type": "code",
   "execution_count": 3,
   "id": "423de5e8",
   "metadata": {},
   "outputs": [],
   "source": [
    "clf = tree.DecisionTreeClassifier(criterion='entropy', min_samples_split=2, min_samples_leaf=2, max_depth=3)"
   ]
  },
  {
   "cell_type": "code",
   "execution_count": 4,
   "id": "fdb1fd3d",
   "metadata": {},
   "outputs": [],
   "source": [
    "irisTree = clf.fit(X, y)"
   ]
  },
  {
   "cell_type": "code",
   "execution_count": 5,
   "id": "e4068347",
   "metadata": {},
   "outputs": [
    {
     "data": {
      "text/plain": [
       "array([0])"
      ]
     },
     "execution_count": 5,
     "metadata": {},
     "output_type": "execute_result"
    }
   ],
   "source": [
    "irisTree.predict([[2., 2., 2., 2.]])"
   ]
  },
  {
   "cell_type": "code",
   "execution_count": 6,
   "id": "a87a821a",
   "metadata": {},
   "outputs": [],
   "source": [
    "allScores = cross_val_score(clf, X, y, cv=10).mean()"
   ]
  },
  {
   "cell_type": "code",
   "execution_count": 7,
   "id": "56d63203",
   "metadata": {},
   "outputs": [
    {
     "data": {
      "text/plain": [
       "0.96"
      ]
     },
     "execution_count": 7,
     "metadata": {},
     "output_type": "execute_result"
    }
   ],
   "source": [
    "allScores"
   ]
  },
  {
   "cell_type": "markdown",
   "id": "5ff1db1c",
   "metadata": {},
   "source": [
    "## Regressão"
   ]
  },
  {
   "cell_type": "code",
   "execution_count": 8,
   "id": "91e5b34a",
   "metadata": {},
   "outputs": [],
   "source": [
    "from sklearn import tree\n",
    "from sklearn.datasets import load_boston\n",
    "from sklearn.model_selection import cross_val_score"
   ]
  },
  {
   "cell_type": "code",
   "execution_count": 9,
   "id": "47242e88",
   "metadata": {},
   "outputs": [
    {
     "name": "stderr",
     "output_type": "stream",
     "text": [
      "c:\\Users\\guIlherme\\Anaconda3\\lib\\site-packages\\sklearn\\utils\\deprecation.py:87: FutureWarning: Function load_boston is deprecated; `load_boston` is deprecated in 1.0 and will be removed in 1.2.\n",
      "\n",
      "    The Boston housing prices dataset has an ethical problem. You can refer to\n",
      "    the documentation of this function for further details.\n",
      "\n",
      "    The scikit-learn maintainers therefore strongly discourage the use of this\n",
      "    dataset unless the purpose of the code is to study and educate about\n",
      "    ethical issues in data science and machine learning.\n",
      "\n",
      "    In this special case, you can fetch the dataset from the original\n",
      "    source::\n",
      "\n",
      "        import pandas as pd\n",
      "        import numpy as np\n",
      "\n",
      "\n",
      "        data_url = \"http://lib.stat.cmu.edu/datasets/boston\"\n",
      "        raw_df = pd.read_csv(data_url, sep=\"\\s+\", skiprows=22, header=None)\n",
      "        data = np.hstack([raw_df.values[::2, :], raw_df.values[1::2, :2]])\n",
      "        target = raw_df.values[1::2, 2]\n",
      "\n",
      "    Alternative datasets include the California housing dataset (i.e.\n",
      "    :func:`~sklearn.datasets.fetch_california_housing`) and the Ames housing\n",
      "    dataset. You can load the datasets as follows::\n",
      "\n",
      "        from sklearn.datasets import fetch_california_housing\n",
      "        housing = fetch_california_housing()\n",
      "\n",
      "    for the California housing dataset and::\n",
      "\n",
      "        from sklearn.datasets import fetch_openml\n",
      "        housing = fetch_openml(name=\"house_prices\", as_frame=True)\n",
      "\n",
      "    for the Ames housing dataset.\n",
      "    \n",
      "  warnings.warn(msg, category=FutureWarning)\n"
     ]
    }
   ],
   "source": [
    "boston = load_boston()\n",
    "X = boston.data\n",
    "y = boston.target"
   ]
  },
  {
   "cell_type": "code",
   "execution_count": 10,
   "id": "bb16bd71",
   "metadata": {},
   "outputs": [],
   "source": [
    "reg = tree.DecisionTreeRegressor()"
   ]
  },
  {
   "cell_type": "code",
   "execution_count": 11,
   "id": "45f46b61",
   "metadata": {},
   "outputs": [],
   "source": [
    "bostonTree = reg.fit(X[:-50], y[:-50])"
   ]
  },
  {
   "cell_type": "code",
   "execution_count": 12,
   "id": "e751d199",
   "metadata": {},
   "outputs": [
    {
     "data": {
      "text/plain": [
       "array([13.2, 15.1, 13. , 13. , 14.1, 15.6, 22.7, 22.7, 22.7, 20.8, 13.2,\n",
       "       13.1, 11.9, 10.9, 14.1, 21.7, 19.9, 28.7, 15.1, 17.2, 14.1, 17.9,\n",
       "       14.1, 22.6, 22.7, 22.8, 28.7, 15. , 22.2, 20.8, 17.5, 22.7, 15.7,\n",
       "       15.7, 15.7, 17.1, 19.6, 18.2, 21.7, 19.5, 19.5, 18.2, 19.8, 19.4,\n",
       "       19.8, 26.6, 22.1, 23.6, 28.2, 22.1])"
      ]
     },
     "execution_count": 12,
     "metadata": {},
     "output_type": "execute_result"
    }
   ],
   "source": [
    "bostonTree.predict(X[-50:])"
   ]
  },
  {
   "cell_type": "code",
   "execution_count": 13,
   "id": "cad71322",
   "metadata": {},
   "outputs": [
    {
     "data": {
      "text/plain": [
       "0.12198018332281901"
      ]
     },
     "execution_count": 13,
     "metadata": {},
     "output_type": "execute_result"
    }
   ],
   "source": [
    "bostonTree.score(X[-50:],y[-50:])"
   ]
  },
  {
   "cell_type": "code",
   "execution_count": 14,
   "id": "51a9901d",
   "metadata": {},
   "outputs": [
    {
     "data": {
      "text/plain": [
       "array([ 0.50855557,  0.52610395, -1.36982821,  0.06210661,  0.76623917,\n",
       "        0.38763948, -0.12998397,  0.3542801 , -2.09610159, -0.99485763])"
      ]
     },
     "execution_count": 14,
     "metadata": {},
     "output_type": "execute_result"
    }
   ],
   "source": [
    "allScores = cross_val_score(reg, X, y, cv=10)\n",
    "allScores"
   ]
  },
  {
   "cell_type": "code",
   "execution_count": 15,
   "id": "d6ef46bd",
   "metadata": {},
   "outputs": [
    {
     "data": {
      "text/plain": [
       "-0.19858465127796404"
      ]
     },
     "execution_count": 15,
     "metadata": {},
     "output_type": "execute_result"
    }
   ],
   "source": [
    "allScores.mean()"
   ]
  },
  {
   "cell_type": "code",
   "execution_count": null,
   "id": "60b42716",
   "metadata": {},
   "outputs": [],
   "source": []
  }
 ],
 "metadata": {
  "kernelspec": {
   "display_name": "Python 3.9.12 ('base')",
   "language": "python",
   "name": "python3"
  },
  "language_info": {
   "codemirror_mode": {
    "name": "ipython",
    "version": 3
   },
   "file_extension": ".py",
   "mimetype": "text/x-python",
   "name": "python",
   "nbconvert_exporter": "python",
   "pygments_lexer": "ipython3",
   "version": "3.9.12"
  },
  "vscode": {
   "interpreter": {
    "hash": "04ca94008266cd00cf4dd2d6a6310a01fa708f20782cb13bd9b96777e2ff7e88"
   }
  }
 },
 "nbformat": 4,
 "nbformat_minor": 5
}
