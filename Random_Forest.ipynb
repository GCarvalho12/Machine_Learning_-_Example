{
 "cells": [
  {
   "cell_type": "code",
   "execution_count": 38,
   "id": "ace9464e",
   "metadata": {},
   "outputs": [],
   "source": [
    "import numpy as np\n",
    "import pandas as pd\n",
    "from sklearn.ensemble import RandomForestClassifier, RandomForestRegressor\n",
    "from sklearn.tree import DecisionTreeClassifier\n",
    "from sklearn.model_selection import cross_val_score\n",
    "import matplotlib.pyplot as plt\n",
    "import seaborn as sns\n",
    "\n",
    "%matplotlib inline"
   ]
  },
  {
   "cell_type": "code",
   "execution_count": 39,
   "id": "d1056e35",
   "metadata": {},
   "outputs": [
    {
     "data": {
      "text/html": [
       "<div>\n",
       "<style scoped>\n",
       "    .dataframe tbody tr th:only-of-type {\n",
       "        vertical-align: middle;\n",
       "    }\n",
       "\n",
       "    .dataframe tbody tr th {\n",
       "        vertical-align: top;\n",
       "    }\n",
       "\n",
       "    .dataframe thead th {\n",
       "        text-align: right;\n",
       "    }\n",
       "</style>\n",
       "<table border=\"1\" class=\"dataframe\">\n",
       "  <thead>\n",
       "    <tr style=\"text-align: right;\">\n",
       "      <th></th>\n",
       "      <th>fixed acidity</th>\n",
       "      <th>volatile acidity</th>\n",
       "      <th>citric acid</th>\n",
       "      <th>residual sugar</th>\n",
       "      <th>chlorides</th>\n",
       "      <th>free sulfur dioxide</th>\n",
       "      <th>total sulfur dioxide</th>\n",
       "      <th>density</th>\n",
       "      <th>pH</th>\n",
       "      <th>sulphates</th>\n",
       "      <th>alcohol</th>\n",
       "      <th>quality</th>\n",
       "    </tr>\n",
       "  </thead>\n",
       "  <tbody>\n",
       "    <tr>\n",
       "      <th>0</th>\n",
       "      <td>7.4</td>\n",
       "      <td>0.70</td>\n",
       "      <td>0.00</td>\n",
       "      <td>1.9</td>\n",
       "      <td>0.076</td>\n",
       "      <td>11.0</td>\n",
       "      <td>34.0</td>\n",
       "      <td>0.9978</td>\n",
       "      <td>3.51</td>\n",
       "      <td>0.56</td>\n",
       "      <td>9.4</td>\n",
       "      <td>5</td>\n",
       "    </tr>\n",
       "    <tr>\n",
       "      <th>1</th>\n",
       "      <td>7.8</td>\n",
       "      <td>0.88</td>\n",
       "      <td>0.00</td>\n",
       "      <td>2.6</td>\n",
       "      <td>0.098</td>\n",
       "      <td>25.0</td>\n",
       "      <td>67.0</td>\n",
       "      <td>0.9968</td>\n",
       "      <td>3.20</td>\n",
       "      <td>0.68</td>\n",
       "      <td>9.8</td>\n",
       "      <td>5</td>\n",
       "    </tr>\n",
       "    <tr>\n",
       "      <th>2</th>\n",
       "      <td>7.8</td>\n",
       "      <td>0.76</td>\n",
       "      <td>0.04</td>\n",
       "      <td>2.3</td>\n",
       "      <td>0.092</td>\n",
       "      <td>15.0</td>\n",
       "      <td>54.0</td>\n",
       "      <td>0.9970</td>\n",
       "      <td>3.26</td>\n",
       "      <td>0.65</td>\n",
       "      <td>9.8</td>\n",
       "      <td>5</td>\n",
       "    </tr>\n",
       "    <tr>\n",
       "      <th>3</th>\n",
       "      <td>11.2</td>\n",
       "      <td>0.28</td>\n",
       "      <td>0.56</td>\n",
       "      <td>1.9</td>\n",
       "      <td>0.075</td>\n",
       "      <td>17.0</td>\n",
       "      <td>60.0</td>\n",
       "      <td>0.9980</td>\n",
       "      <td>3.16</td>\n",
       "      <td>0.58</td>\n",
       "      <td>9.8</td>\n",
       "      <td>6</td>\n",
       "    </tr>\n",
       "    <tr>\n",
       "      <th>4</th>\n",
       "      <td>7.4</td>\n",
       "      <td>0.70</td>\n",
       "      <td>0.00</td>\n",
       "      <td>1.9</td>\n",
       "      <td>0.076</td>\n",
       "      <td>11.0</td>\n",
       "      <td>34.0</td>\n",
       "      <td>0.9978</td>\n",
       "      <td>3.51</td>\n",
       "      <td>0.56</td>\n",
       "      <td>9.4</td>\n",
       "      <td>5</td>\n",
       "    </tr>\n",
       "  </tbody>\n",
       "</table>\n",
       "</div>"
      ],
      "text/plain": [
       "   fixed acidity  volatile acidity  citric acid  residual sugar  chlorides  \\\n",
       "0            7.4              0.70         0.00             1.9      0.076   \n",
       "1            7.8              0.88         0.00             2.6      0.098   \n",
       "2            7.8              0.76         0.04             2.3      0.092   \n",
       "3           11.2              0.28         0.56             1.9      0.075   \n",
       "4            7.4              0.70         0.00             1.9      0.076   \n",
       "\n",
       "   free sulfur dioxide  total sulfur dioxide  density    pH  sulphates  \\\n",
       "0                 11.0                  34.0   0.9978  3.51       0.56   \n",
       "1                 25.0                  67.0   0.9968  3.20       0.68   \n",
       "2                 15.0                  54.0   0.9970  3.26       0.65   \n",
       "3                 17.0                  60.0   0.9980  3.16       0.58   \n",
       "4                 11.0                  34.0   0.9978  3.51       0.56   \n",
       "\n",
       "   alcohol  quality  \n",
       "0      9.4        5  \n",
       "1      9.8        5  \n",
       "2      9.8        5  \n",
       "3      9.8        6  \n",
       "4      9.4        5  "
      ]
     },
     "execution_count": 39,
     "metadata": {},
     "output_type": "execute_result"
    }
   ],
   "source": [
    "wine = pd.read_csv('dataset/winequality-red.csv')\n",
    "wine.head()"
   ]
  },
  {
   "cell_type": "code",
   "execution_count": 43,
   "id": "ed7e1a5e",
   "metadata": {},
   "outputs": [],
   "source": [
    "x = wine.drop('quality', axis=1)\n",
    "y = wine['quality']"
   ]
  },
  {
   "cell_type": "code",
   "execution_count": 44,
   "id": "4ea95aa6",
   "metadata": {},
   "outputs": [
    {
     "name": "stdout",
     "output_type": "stream",
     "text": [
      "Scores: RandomForest=0.56, DecisionTree=0.48\n"
     ]
    }
   ],
   "source": [
    "# Criamos um modelo de classificação com 50 árvores e testamos ele por validação cruzada\n",
    "rf = RandomForestClassifier(50)\n",
    "score_rf = cross_val_score(rf, x, y, cv=5, scoring='accuracy').mean()\n",
    "\n",
    "# Criamos uma única árvore para comparar com a floresta\n",
    "dt = DecisionTreeClassifier()\n",
    "score_dt = cross_val_score(dt, x, y, cv=5, scoring='accuracy').mean()\n",
    "\n",
    "print(f'Scores: RandomForest={score_rf:.2f}, DecisionTree={score_dt:.2f}')"
   ]
  },
  {
   "cell_type": "code",
   "execution_count": 45,
   "id": "c9eda9c7",
   "metadata": {},
   "outputs": [
    {
     "name": "stdout",
     "output_type": "stream",
     "text": [
      "Decision Trees\n",
      "Score com max_depth=100: 0.48\n",
      "Score com max_depth= 10: 0.50\n",
      "Score com max_depth=  1: 0.54\n"
     ]
    }
   ],
   "source": [
    "print('Decision Trees')\n",
    "\n",
    "dt = DecisionTreeClassifier(max_depth=100, random_state=42)\n",
    "score = cross_val_score(dt, x, y, cv=5, scoring='accuracy').mean()\n",
    "print(f'Score com max_depth=100: {score:.2f}')\n",
    "\n",
    "dt = DecisionTreeClassifier(max_depth=10, random_state=42)\n",
    "score = cross_val_score(dt, x, y, cv=5, scoring='accuracy').mean()\n",
    "print(f'Score com max_depth= 10: {score:.2f}')\n",
    "\n",
    "dt = DecisionTreeClassifier(max_depth=1, random_state=42)\n",
    "score = cross_val_score(dt, x, y, cv=5, scoring='accuracy').mean()\n",
    "print(f'Score com max_depth=  1: {score:.2f}')"
   ]
  },
  {
   "cell_type": "code",
   "execution_count": 46,
   "id": "d476d2a3",
   "metadata": {},
   "outputs": [
    {
     "name": "stdout",
     "output_type": "stream",
     "text": [
      "Random Forests\n",
      "Score com max_depth=100: 0.55\n",
      "Score com max_depth= 10: 0.56\n",
      "Score com max_depth=  1: 0.54\n"
     ]
    }
   ],
   "source": [
    "print('Random Forests')\n",
    "\n",
    "rf = RandomForestClassifier(10, max_depth=100, random_state=42)\n",
    "score = cross_val_score(rf, x, y, cv=5, scoring='accuracy').mean()\n",
    "print(f'Score com max_depth=100: {score:.2f}')\n",
    "\n",
    "rf = RandomForestClassifier(10, max_depth=10, random_state=42)\n",
    "score = cross_val_score(rf, x, y, cv=5, scoring='accuracy').mean()\n",
    "print(f'Score com max_depth= 10: {score:.2f}')\n",
    "\n",
    "rf = RandomForestClassifier(10, max_depth=1, random_state=42)\n",
    "score = cross_val_score(rf, x, y, cv=5, scoring='accuracy').mean()\n",
    "print(f'Score com max_depth=  1: {score:.2f}')"
   ]
  }
 ],
 "metadata": {
  "kernelspec": {
   "display_name": "Python 3.9.12 ('base')",
   "language": "python",
   "name": "python3"
  },
  "language_info": {
   "codemirror_mode": {
    "name": "ipython",
    "version": 3
   },
   "file_extension": ".py",
   "mimetype": "text/x-python",
   "name": "python",
   "nbconvert_exporter": "python",
   "pygments_lexer": "ipython3",
   "version": "3.9.12"
  },
  "vscode": {
   "interpreter": {
    "hash": "04ca94008266cd00cf4dd2d6a6310a01fa708f20782cb13bd9b96777e2ff7e88"
   }
  }
 },
 "nbformat": 4,
 "nbformat_minor": 5
}
